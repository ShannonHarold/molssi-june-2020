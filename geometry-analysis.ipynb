{
 "cells": [
  {
   "cell_type": "code",
   "execution_count": 1,
   "id": "1ef95c9b-5505-4e69-ae8e-9b9599447a1a",
   "metadata": {},
   "outputs": [],
   "source": [
    "import os\n",
    "import numpy"
   ]
  },
  {
   "cell_type": "code",
   "execution_count": 2,
   "id": "29dce399-a84e-49d3-8594-2804d20d7c9d",
   "metadata": {},
   "outputs": [],
   "source": [
    "file_location = os.path.join('data', 'water.xyz')"
   ]
  },
  {
   "cell_type": "code",
   "execution_count": 3,
   "id": "4c5aef44-bd0d-4bb1-b15c-6e12bbd775f7",
   "metadata": {},
   "outputs": [],
   "source": [
    "xyz_file = numpy.genfromtxt(fname=file_location, dtype='unicode', skip_header=2)"
   ]
  },
  {
   "cell_type": "code",
   "execution_count": 4,
   "id": "9e307230-43a7-42a6-b6c3-3dc70526ed83",
   "metadata": {},
   "outputs": [
    {
     "name": "stdout",
     "output_type": "stream",
     "text": [
      "[['O' '0.000000' '-0.007156' '0.965491']\n",
      " ['H1' '-0.000000' '0.001486' '-0.003471']\n",
      " ['H2' '0.000000' '0.931026' '1.207929']]\n"
     ]
    }
   ],
   "source": [
    "print(xyz_file)"
   ]
  },
  {
   "cell_type": "code",
   "execution_count": 5,
   "id": "3f5e0727-4262-4202-b7c0-da08c23ae285",
   "metadata": {},
   "outputs": [],
   "source": [
    "symbols = xyz_file[:,0]\n",
    "coordinates = xyz_file[:,1:]"
   ]
  },
  {
   "cell_type": "code",
   "execution_count": 6,
   "id": "36c8796c-2f90-40e4-949d-73e5995d5217",
   "metadata": {},
   "outputs": [
    {
     "name": "stderr",
     "output_type": "stream",
     "text": [
      "<ipython-input-6-658249c90a51>:1: DeprecationWarning: `np.float` is a deprecated alias for the builtin `float`. To silence this warning, use `float` by itself. Doing this will not modify any behavior and is safe. If you specifically wanted the numpy scalar type, use `np.float64` here.\n",
      "Deprecated in NumPy 1.20; for more details and guidance: https://numpy.org/devdocs/release/1.20.0-notes.html#deprecations\n",
      "  coordinates = coordinates.astype(numpy.float)\n"
     ]
    }
   ],
   "source": [
    "coordinates = coordinates.astype(numpy.float)"
   ]
  },
  {
   "cell_type": "code",
   "execution_count": 7,
   "id": "7b4edade-9d46-46e2-a64b-521be2feac4c",
   "metadata": {},
   "outputs": [
    {
     "name": "stdout",
     "output_type": "stream",
     "text": [
      "[[ 0.       -0.007156  0.965491]\n",
      " [-0.        0.001486 -0.003471]\n",
      " [ 0.        0.931026  1.207929]]\n"
     ]
    }
   ],
   "source": [
    "print(coordinates)"
   ]
  },
  {
   "cell_type": "code",
   "execution_count": 14,
   "id": "73070733-9edf-4816-843f-6cc1e73e515b",
   "metadata": {},
   "outputs": [
    {
     "ename": "ValueError",
     "evalue": "Invalid format specifier",
     "output_type": "error",
     "traceback": [
      "\u001b[0;31m---------------------------------------------------------------------------\u001b[0m",
      "\u001b[0;31mValueError\u001b[0m                                Traceback (most recent call last)",
      "\u001b[0;32m<ipython-input-14-48efaf29dc9f>\u001b[0m in \u001b[0;36m<module>\u001b[0;34m\u001b[0m\n\u001b[1;32m      8\u001b[0m         \u001b[0mz_distance\u001b[0m \u001b[0;34m=\u001b[0m \u001b[0mcoordinates\u001b[0m\u001b[0;34m[\u001b[0m\u001b[0mnum1\u001b[0m\u001b[0;34m,\u001b[0m\u001b[0;36m2\u001b[0m\u001b[0;34m]\u001b[0m \u001b[0;34m-\u001b[0m \u001b[0mcoordinates\u001b[0m\u001b[0;34m[\u001b[0m\u001b[0mnum2\u001b[0m\u001b[0;34m,\u001b[0m\u001b[0;36m2\u001b[0m\u001b[0;34m]\u001b[0m\u001b[0;34m\u001b[0m\u001b[0;34m\u001b[0m\u001b[0m\n\u001b[1;32m      9\u001b[0m         \u001b[0mdistance\u001b[0m \u001b[0;34m=\u001b[0m \u001b[0mnumpy\u001b[0m\u001b[0;34m.\u001b[0m\u001b[0msqrt\u001b[0m\u001b[0;34m(\u001b[0m\u001b[0mx_distance\u001b[0m\u001b[0;34m**\u001b[0m\u001b[0;36m2\u001b[0m \u001b[0;34m+\u001b[0m \u001b[0my_distance\u001b[0m\u001b[0;34m**\u001b[0m\u001b[0;36m2\u001b[0m \u001b[0;34m+\u001b[0m \u001b[0mz_distance\u001b[0m\u001b[0;34m**\u001b[0m\u001b[0;36m2\u001b[0m\u001b[0;34m)\u001b[0m\u001b[0;34m\u001b[0m\u001b[0;34m\u001b[0m\u001b[0m\n\u001b[0;32m---> 10\u001b[0;31m         \u001b[0mprint\u001b[0m\u001b[0;34m(\u001b[0m\u001b[0;34mF'{symbols[num1]} to {symbols[num2]} : {distance:.3f, <1.5}'\u001b[0m\u001b[0;34m)\u001b[0m\u001b[0;34m\u001b[0m\u001b[0;34m\u001b[0m\u001b[0m\n\u001b[0m",
      "\u001b[0;31mValueError\u001b[0m: Invalid format specifier"
     ]
    }
   ],
   "source": [
    "num_atoms = len(symbols)\n",
    "\n",
    "for num1 in range(0,num_atoms):\n",
    "    for num2 in range(0,num_atoms):\n",
    "        #print(num1,num2)\n",
    "        x_distance = coordinates[num1,0] - coordinates[num2,0]\n",
    "        y_distance = coordinates[num1,1] - coordinates[num2,1]\n",
    "        z_distance = coordinates[num1,2] - coordinates[num2,2]\n",
    "        distance = numpy.sqrt(x_distance**2 + y_distance**2 + z_distance**2)\n",
    "        print(F'{symbols[num1]} to {symbols[num2]} : {distance:.3f, <1.5}')"
   ]
  },
  {
   "cell_type": "code",
   "execution_count": 13,
   "id": "45a1c368-382b-4cbe-8746-0e53bb9255f9",
   "metadata": {},
   "outputs": [],
   "source": [
    "# Modify my code to only print atoms that are bonding\n",
    "# Rule: Distance between atoms is less than 1.5 angstroms\n"
   ]
  },
  {
   "cell_type": "code",
   "execution_count": 22,
   "id": "a71a65ba-e655-450f-a8b1-2cc1753e7bb9",
   "metadata": {},
   "outputs": [
    {
     "name": "stdout",
     "output_type": "stream",
     "text": [
      "O to H1 : 0.969\n",
      "O to H2 : 0.969\n"
     ]
    }
   ],
   "source": [
    "num_atoms = len(symbols)\n",
    "\n",
    "for num1 in range(0,num_atoms):\n",
    "    for num2 in range(0,num_atoms):\n",
    "        #print(num1,num2)\n",
    "        if num1<num2:\n",
    "            x_distance = coordinates[num1,0] - coordinates[num2,0]\n",
    "            y_distance = coordinates[num1,1] - coordinates[num2,1]\n",
    "            z_distance = coordinates[num1,2] - coordinates[num2,2]\n",
    "            distance = numpy.sqrt(x_distance**2 + y_distance**2 + z_distance**2)\n",
    "            if distance > 0 and distance < 1.5:\n",
    "                print(F'{symbols[num1]} to {symbols[num2]} : {distance:.3f}')"
   ]
  },
  {
   "cell_type": "markdown",
   "id": "8559f045-4268-407d-8237-6bca0b91e4b8",
   "metadata": {},
   "source": [
    "## Writing and Using Functions"
   ]
  },
  {
   "cell_type": "code",
   "execution_count": 23,
   "id": "3ced5e34-06df-4dad-9d15-93f976c7f81d",
   "metadata": {},
   "outputs": [],
   "source": [
    "#def function_name(parameters):\n",
    "#    ** body of your function **\n",
    "#    ** write code using the parameters to calculate something**\n",
    "#    return value_to_return"
   ]
  },
  {
   "cell_type": "code",
   "execution_count": 26,
   "id": "381d3559-044e-4e6e-9efe-cf172bb000ee",
   "metadata": {},
   "outputs": [],
   "source": [
    "def calculate_distance(coords1, coords2):\n",
    "    x_distance = coords1[0] - coords2[0]\n",
    "    y_distance = coords1[1] - coords2[1]\n",
    "    z_distance = coords1[2] - coords2[2]\n",
    "    distance = numpy.sqrt(x_distance**2 + y_distance**2 + z_distance**2)\n",
    "    return distance"
   ]
  },
  {
   "cell_type": "code",
   "execution_count": 27,
   "id": "40e30753-ef67-4933-90f3-b8492d643fb0",
   "metadata": {},
   "outputs": [
    {
     "data": {
      "text/plain": [
       "1.0"
      ]
     },
     "execution_count": 27,
     "metadata": {},
     "output_type": "execute_result"
    }
   ],
   "source": [
    "calculate_distance([0, 0, 0], [0, 0, 1])"
   ]
  },
  {
   "cell_type": "code",
   "execution_count": 28,
   "id": "d853be0e-7101-4f41-9be3-2180ae7b8f3b",
   "metadata": {},
   "outputs": [
    {
     "data": {
      "text/plain": [
       "1.7320508075688772"
      ]
     },
     "execution_count": 28,
     "metadata": {},
     "output_type": "execute_result"
    }
   ],
   "source": [
    "calculate_distance([0, 0, 0], [1, 1, 1])"
   ]
  },
  {
   "cell_type": "code",
   "execution_count": 29,
   "id": "07e014ef-023b-4c7e-9ee4-878d0bf26ead",
   "metadata": {},
   "outputs": [
    {
     "name": "stdout",
     "output_type": "stream",
     "text": [
      "O to H1 : 0.969\n",
      "O to H2 : 0.969\n"
     ]
    }
   ],
   "source": [
    "num_atoms = len(symbols)\n",
    "\n",
    "for num1 in range(0,num_atoms):\n",
    "    for num2 in range(0,num_atoms):\n",
    "        #print(num1,num2)\n",
    "        if num1<num2:\n",
    "            distance = calculate_distance(coordinates[num1],coordinates[num2])\n",
    "        \n",
    "            if distance > 0 and distance < 1.5:\n",
    "                print(F'{symbols[num1]} to {symbols[num2]} : {distance:.3f}')"
   ]
  },
  {
   "cell_type": "code",
   "execution_count": 30,
   "id": "9cdbe179-c79d-42bc-868e-f8e148f2579b",
   "metadata": {},
   "outputs": [],
   "source": [
    "# Write a function to check and see if a distance is a bond\n",
    "def bond_check(atom_distance):\n",
    "    if atom_distance > 0 and atom_distance < 1.5:\n",
    "        return True\n",
    "    else:\n",
    "        return False"
   ]
  },
  {
   "cell_type": "code",
   "execution_count": 31,
   "id": "31b0ffaf-89e2-4387-8353-1d884bd93d26",
   "metadata": {},
   "outputs": [
    {
     "data": {
      "text/plain": [
       "False"
      ]
     },
     "execution_count": 31,
     "metadata": {},
     "output_type": "execute_result"
    }
   ],
   "source": [
    "bond_check(1.7)"
   ]
  },
  {
   "cell_type": "code",
   "execution_count": 32,
   "id": "b6f5f4e4-ad85-4d6a-8e71-489e77cc21cb",
   "metadata": {},
   "outputs": [
    {
     "data": {
      "text/plain": [
       "True"
      ]
     },
     "execution_count": 32,
     "metadata": {},
     "output_type": "execute_result"
    }
   ],
   "source": [
    "bond_check(1.2)"
   ]
  },
  {
   "cell_type": "code",
   "execution_count": 33,
   "id": "5f3bb204-a4c5-4d8a-9f72-3c3c7b0befa8",
   "metadata": {},
   "outputs": [
    {
     "data": {
      "text/plain": [
       "False"
      ]
     },
     "execution_count": 33,
     "metadata": {},
     "output_type": "execute_result"
    }
   ],
   "source": [
    "bond_check(-50)"
   ]
  },
  {
   "cell_type": "code",
   "execution_count": 34,
   "id": "ad5381e8-84bb-455e-9422-33c5a8f3d2af",
   "metadata": {},
   "outputs": [],
   "source": [
    "# Modify the bond check function to take a minimum and a maximum length as an input"
   ]
  },
  {
   "cell_type": "code",
   "execution_count": 38,
   "id": "d6251735-5f6a-4e0b-b094-1bcc582c83ca",
   "metadata": {},
   "outputs": [],
   "source": [
    "def bond_check(atom_distance, minimum_length=0, maximum_length=1.5):\n",
    "    \"\"\"\n",
    "    Checks if a distance is a bond based on a minimum and a maximum\n",
    "    Inputs: distance, minimum length for bond, maximum length for bond\n",
    "    Default: minimum: 0 angstroms, maximum: 1.5 angstroms\n",
    "    \"\"\"\n",
    "    if atom_distance > minimum_length and atom_distance < maximum_length:\n",
    "        return True\n",
    "    else:\n",
    "        return False"
   ]
  },
  {
   "cell_type": "code",
   "execution_count": 36,
   "id": "fc7a0272-dad9-4b46-a118-a51cff66a863",
   "metadata": {},
   "outputs": [
    {
     "data": {
      "text/plain": [
       "True"
      ]
     },
     "execution_count": 36,
     "metadata": {},
     "output_type": "execute_result"
    }
   ],
   "source": [
    "bond_check(1.7,0,2.0)"
   ]
  },
  {
   "cell_type": "code",
   "execution_count": 41,
   "id": "b864f831-ff2f-4373-a8d1-e19d397fda8d",
   "metadata": {},
   "outputs": [
    {
     "ename": "SyntaxError",
     "evalue": "invalid syntax (<ipython-input-41-46dc0b64e30a>, line 1)",
     "output_type": "error",
     "traceback": [
      "\u001b[0;36m  File \u001b[0;32m\"<ipython-input-41-46dc0b64e30a>\"\u001b[0;36m, line \u001b[0;32m1\u001b[0m\n\u001b[0;31m    Help on function bond_check in module _main_:\u001b[0m\n\u001b[0m         ^\u001b[0m\n\u001b[0;31mSyntaxError\u001b[0m\u001b[0;31m:\u001b[0m invalid syntax\n"
     ]
    }
   ],
   "source": [
    "Help on function bond_check in module _main_:"
   ]
  },
  {
   "cell_type": "code",
   "execution_count": 44,
   "id": "d8f8eb37-6c27-441e-b3b4-013a378da508",
   "metadata": {},
   "outputs": [
    {
     "name": "stdout",
     "output_type": "stream",
     "text": [
      "O to H1 : 0.969\n",
      "O to H2 : 0.969\n"
     ]
    }
   ],
   "source": [
    "num_atoms = len(symbols)\n",
    "\n",
    "for num1 in range(0,num_atoms):\n",
    "    for num2 in range(0,num_atoms):\n",
    "        #print(num1,num2)\n",
    "        if num1<num2:\n",
    "            distance = calculate_distance(coordinates[num1],coordinates[num2])\n",
    "            if bond_check(distance) is True:\n",
    "                print(F'{symbols[num1]} to {symbols[num2]} : {distance:.3f}')"
   ]
  },
  {
   "cell_type": "code",
   "execution_count": 46,
   "id": "c9a3de0a-8339-4fae-8639-dab2d2df13db",
   "metadata": {},
   "outputs": [],
   "source": [
    "# Write a new function called open_xyz that opens and processes an xyz file.\n",
    "# Your function should accept a filepath for the input"
   ]
  },
  {
   "cell_type": "code",
   "execution_count": 47,
   "id": "608298a8-ffd5-477e-ac1b-049ab69e4e45",
   "metadata": {},
   "outputs": [],
   "source": [
    "def open_xyz(filename):\n",
    "    \"\"\"\n",
    "    This function opens a standard xyz file.\n",
    "    It returns the symbols as strings and the coordinates as floats\n",
    "    \"\"\"\n",
    "    xyz_file = numpy.genfromtxt(fname=filename, skip_header=2, dtype='unicode')\n",
    "    symbols = xyz_file[:,0]\n",
    "    coord = xyz_file[:,1:]\n",
    "    coord = coord.astype(numpy.float)\n",
    "    return symbols, coord\n"
   ]
  },
  {
   "cell_type": "code",
   "execution_count": 52,
   "id": "cfdf7de9-8f96-4944-b107-1b9b3c772fd4",
   "metadata": {},
   "outputs": [
    {
     "name": "stdout",
     "output_type": "stream",
     "text": [
      "O to H1 : 0.969\n",
      "O to H2 : 0.969\n"
     ]
    },
    {
     "name": "stderr",
     "output_type": "stream",
     "text": [
      "<ipython-input-52-df83a932f4b3>:30: DeprecationWarning: `np.float` is a deprecated alias for the builtin `float`. To silence this warning, use `float` by itself. Doing this will not modify any behavior and is safe. If you specifically wanted the numpy scalar type, use `np.float64` here.\n",
      "Deprecated in NumPy 1.20; for more details and guidance: https://numpy.org/devdocs/release/1.20.0-notes.html#deprecations\n",
      "  coord = coord.astype(numpy.float)\n"
     ]
    }
   ],
   "source": [
    "import os\n",
    "import numpy\n",
    "\n",
    "def calculate_distance(coords1, coords2):\n",
    "    x_distance = coords1[0] - coords2[0]\n",
    "    y_distance = coords1[1] - coords2[1]\n",
    "    z_distance = coords1[2] - coords2[2]\n",
    "    distance = numpy.sqrt(x_distance**2 + y_distance**2 + z_distance**2)\n",
    "    return distance\n",
    "\n",
    "def bond_check(atom_distance, minimum_length=0, maximum_length=1.5):\n",
    "    \"\"\"\n",
    "    Checks if a distance is a bond based on a minimum and a maximum\n",
    "    Inputs: distance, minimum length for bond, maximum length for bond\n",
    "    Default: minimum: 0 angstroms, maximum: 1.5 angstroms\n",
    "    \"\"\"\n",
    "    if atom_distance > minimum_length and atom_distance < maximum_length:\n",
    "        return True\n",
    "    else:\n",
    "        return False\n",
    "    \n",
    "def open_xyz(filename):\n",
    "    \"\"\"\n",
    "    This function opens a standard xyz file.\n",
    "    It returns the symbols as strings and the coordinates as floats\n",
    "    \"\"\"\n",
    "    xyz_file = numpy.genfromtxt(fname=filename, skip_header=2, dtype='unicode')\n",
    "    symbols = xyz_file[:,0]\n",
    "    coord = xyz_file[:,1:]\n",
    "    coord = coord.astype(numpy.float)\n",
    "    return symbols, coord\n",
    "\n",
    "file_location = os.path.join('data','water.xyz')\n",
    "symbols, coordinates = open_xyz(file_location)\n",
    "num_atoms = len(symbols)\n",
    "for num1 in range(0, num_atoms):\n",
    "    for num2 in range(0, num_atoms):\n",
    "        if num1<num2:\n",
    "            distance = calculate_distance(coordinates[num1], coordinates[num2])\n",
    "            if bond_check(distance) is True:\n",
    "                print(F'{symbols[num1]} to {symbols[num2]} : {distance:.3f}')"
   ]
  },
  {
   "cell_type": "code",
   "execution_count": null,
   "id": "322bae51-fa9b-4284-b7c3-a316df25b106",
   "metadata": {},
   "outputs": [],
   "source": []
  }
 ],
 "metadata": {
  "kernelspec": {
   "display_name": "Python 3",
   "language": "python",
   "name": "python3"
  },
  "language_info": {
   "codemirror_mode": {
    "name": "ipython",
    "version": 3
   },
   "file_extension": ".py",
   "mimetype": "text/x-python",
   "name": "python",
   "nbconvert_exporter": "python",
   "pygments_lexer": "ipython3",
   "version": "3.8.8"
  }
 },
 "nbformat": 4,
 "nbformat_minor": 5
}
