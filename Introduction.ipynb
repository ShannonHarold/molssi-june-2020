{
 "cells": [
  {
   "cell_type": "markdown",
   "id": "378b7645-b839-48b5-939e-48001e2c19cf",
   "metadata": {},
   "source": [
    "# Introduction\n",
    "This is my notebook from the MERCURY MolSSI programming workshop."
   ]
  },
  {
   "cell_type": "code",
   "execution_count": 1,
   "id": "88cc5097-e618-45ff-b220-039f924b90b7",
   "metadata": {},
   "outputs": [
    {
     "data": {
      "text/plain": [
       "10"
      ]
     },
     "execution_count": 1,
     "metadata": {},
     "output_type": "execute_result"
    }
   ],
   "source": [
    "3 + 7"
   ]
  },
  {
   "cell_type": "code",
   "execution_count": 2,
   "id": "cd1f71f0-2b34-497e-b48b-b0e905dd67f6",
   "metadata": {},
   "outputs": [],
   "source": [
    "# variable_name = value\n",
    "deltaH = -541.5  #kJ/mole\n",
    "deltaS = 10.4  #kJ/(mole K)\n",
    "temperature = 298  #Kelvin\n",
    "deltaG = deltaH - temperature*deltaS"
   ]
  },
  {
   "cell_type": "code",
   "execution_count": 3,
   "id": "edb38899-8b79-430a-8153-fc2641468ff4",
   "metadata": {},
   "outputs": [
    {
     "name": "stdout",
     "output_type": "stream",
     "text": [
      "-3640.7000000000003\n"
     ]
    }
   ],
   "source": [
    "print(deltaG)"
   ]
  },
  {
   "cell_type": "code",
   "execution_count": 4,
   "id": "1a2b8c88-1bbd-4545-af63-02a378a8490b",
   "metadata": {},
   "outputs": [],
   "source": [
    "deltaG_joules = deltaG*1000"
   ]
  },
  {
   "cell_type": "code",
   "execution_count": 5,
   "id": "d467ee3a-a67e-40a2-8432-6055fd88e089",
   "metadata": {},
   "outputs": [
    {
     "name": "stdout",
     "output_type": "stream",
     "text": [
      "-3640.7000000000003\n",
      "-3640700.0000000005\n"
     ]
    }
   ],
   "source": [
    "print(deltaG)\n",
    "print(deltaG_joules)"
   ]
  },
  {
   "cell_type": "code",
   "execution_count": 6,
   "id": "7c8d7555-3062-48a5-a7f5-0bfae6de9ea6",
   "metadata": {},
   "outputs": [
    {
     "name": "stdout",
     "output_type": "stream",
     "text": [
      "-3640.7000000000003\n"
     ]
    }
   ],
   "source": [
    "deltaH, deltaS, temperature = -541.5, 10.4, 298\n",
    "deltaG = deltaH - temperature*deltaS\n",
    "print(deltaG)"
   ]
  },
  {
   "cell_type": "markdown",
   "id": "81bf1a42-74e0-4011-9532-4645d540067b",
   "metadata": {},
   "source": [
    "## Data types"
   ]
  },
  {
   "cell_type": "code",
   "execution_count": 7,
   "id": "d4cab2fa-d682-46e5-bda9-77cc273c9a2f",
   "metadata": {},
   "outputs": [
    {
     "data": {
      "text/plain": [
       "float"
      ]
     },
     "execution_count": 7,
     "metadata": {},
     "output_type": "execute_result"
    }
   ],
   "source": [
    "type(deltaG)"
   ]
  },
  {
   "cell_type": "code",
   "execution_count": 8,
   "id": "df71512f-a917-4482-b802-c4c32ea63cc4",
   "metadata": {},
   "outputs": [],
   "source": [
    "deltaG_string = str(deltaG)"
   ]
  },
  {
   "cell_type": "code",
   "execution_count": 9,
   "id": "6dd768a1-2557-41b6-b08b-90462c154a3b",
   "metadata": {},
   "outputs": [
    {
     "data": {
      "text/plain": [
       "str"
      ]
     },
     "execution_count": 9,
     "metadata": {},
     "output_type": "execute_result"
    }
   ],
   "source": [
    "type(deltaG_string)"
   ]
  },
  {
   "cell_type": "code",
   "execution_count": 10,
   "id": "0b42dc7e-61da-4f4f-8c75-8f255b9951d1",
   "metadata": {},
   "outputs": [
    {
     "name": "stdout",
     "output_type": "stream",
     "text": [
      "-3640.7000000000003\n"
     ]
    }
   ],
   "source": [
    "print(deltaG_string)"
   ]
  },
  {
   "cell_type": "code",
   "execution_count": 11,
   "id": "0f748f25-c213-46ea-b869-29e105dcd411",
   "metadata": {},
   "outputs": [
    {
     "ename": "TypeError",
     "evalue": "can only concatenate str (not \"int\") to str",
     "output_type": "error",
     "traceback": [
      "\u001b[0;31m---------------------------------------------------------------------------\u001b[0m",
      "\u001b[0;31mTypeError\u001b[0m                                 Traceback (most recent call last)",
      "\u001b[0;32m<ipython-input-11-5d9d80712449>\u001b[0m in \u001b[0;36m<module>\u001b[0;34m\u001b[0m\n\u001b[0;32m----> 1\u001b[0;31m \u001b[0mdeltaG_string\u001b[0m \u001b[0;34m+\u001b[0m \u001b[0;36m200\u001b[0m\u001b[0;34m\u001b[0m\u001b[0;34m\u001b[0m\u001b[0m\n\u001b[0m",
      "\u001b[0;31mTypeError\u001b[0m: can only concatenate str (not \"int\") to str"
     ]
    }
   ],
   "source": [
    "deltaG_string + 200"
   ]
  },
  {
   "cell_type": "markdown",
   "id": "5b7b7bef-0489-4006-83a6-9df6d19a2725",
   "metadata": {},
   "source": [
    "## Lists"
   ]
  },
  {
   "cell_type": "code",
   "execution_count": 17,
   "id": "6713d98f-be0d-42b3-9b8f-7f917766b531",
   "metadata": {},
   "outputs": [
    {
     "ename": "SyntaxError",
     "evalue": "invalid syntax (<ipython-input-17-dfdedd7be117>, line 1)",
     "output_type": "error",
     "traceback": [
      "\u001b[0;36m  File \u001b[0;32m\"<ipython-input-17-dfdedd7be117>\"\u001b[0;36m, line \u001b[0;32m1\u001b[0m\n\u001b[0;31m    energy_kcal = [-13.4, -2.7, -5.4 42.1]\u001b[0m\n\u001b[0m                                     ^\u001b[0m\n\u001b[0;31mSyntaxError\u001b[0m\u001b[0;31m:\u001b[0m invalid syntax\n"
     ]
    }
   ],
   "source": [
    "energy_kcal = [-13.4, -2.7, -5.4 42.1]"
   ]
  },
  {
   "cell_type": "code",
   "execution_count": 18,
   "id": "3cf8d64b-ee5e-4495-aab1-1fd6e19beac6",
   "metadata": {},
   "outputs": [],
   "source": [
    "energy_kcal = [-13.2, -2.7, 5.4, 42.1]"
   ]
  },
  {
   "cell_type": "code",
   "execution_count": 19,
   "id": "70ddebc0-7965-4dfd-8937-59a93878e403",
   "metadata": {},
   "outputs": [],
   "source": [
    "energy_length = len(energy_kcal)"
   ]
  },
  {
   "cell_type": "code",
   "execution_count": 20,
   "id": "7303a299-d626-487c-a7b4-f2b41331720f",
   "metadata": {},
   "outputs": [
    {
     "name": "stdout",
     "output_type": "stream",
     "text": [
      "4\n"
     ]
    }
   ],
   "source": [
    "print(energy_length)"
   ]
  },
  {
   "cell_type": "code",
   "execution_count": 21,
   "id": "f77d4b98-b62a-4c61-a2a5-3f1cbeeb4aaf",
   "metadata": {},
   "outputs": [
    {
     "ename": "NameError",
     "evalue": "name 'pring' is not defined",
     "output_type": "error",
     "traceback": [
      "\u001b[0;31m---------------------------------------------------------------------------\u001b[0m",
      "\u001b[0;31mNameError\u001b[0m                                 Traceback (most recent call last)",
      "\u001b[0;32m<ipython-input-21-7813db3a393e>\u001b[0m in \u001b[0;36m<module>\u001b[0;34m\u001b[0m\n\u001b[0;32m----> 1\u001b[0;31m \u001b[0mpring\u001b[0m\u001b[0;34m(\u001b[0m\u001b[0;34m'The length of my list is'\u001b[0m\u001b[0;34m,\u001b[0m \u001b[0menergy_length\u001b[0m\u001b[0;34m)\u001b[0m\u001b[0;34m\u001b[0m\u001b[0;34m\u001b[0m\u001b[0m\n\u001b[0m",
      "\u001b[0;31mNameError\u001b[0m: name 'pring' is not defined"
     ]
    }
   ],
   "source": [
    "pring('The length of my list is', energy_length)"
   ]
  },
  {
   "cell_type": "code",
   "execution_count": 22,
   "id": "d00e7419-a0ef-4378-8a88-cde127c044bf",
   "metadata": {},
   "outputs": [
    {
     "name": "stdout",
     "output_type": "stream",
     "text": [
      "The length of my list is 4\n"
     ]
    }
   ],
   "source": [
    "print('The length of my list is', energy_length)"
   ]
  },
  {
   "cell_type": "code",
   "execution_count": 24,
   "id": "ace231d0-c545-4f3e-8281-57149549ad08",
   "metadata": {},
   "outputs": [
    {
     "name": "stdout",
     "output_type": "stream",
     "text": [
      "The length of my list is 4\n"
     ]
    }
   ],
   "source": [
    "print(F'The length of my list is {energy_length}')"
   ]
  },
  {
   "cell_type": "code",
   "execution_count": 26,
   "id": "2e4355db-5e4b-4d7b-9a4b-8cbddd42003a",
   "metadata": {},
   "outputs": [
    {
     "name": "stdout",
     "output_type": "stream",
     "text": [
      "-2.7\n"
     ]
    }
   ],
   "source": [
    "print(energy_kcal[1])"
   ]
  },
  {
   "cell_type": "code",
   "execution_count": 27,
   "id": "d1df7fb4-f85b-4fcd-bf1a-d265ecc09b7a",
   "metadata": {},
   "outputs": [],
   "source": [
    "energy_kilojoules = energy_kcal[1]*4.184"
   ]
  },
  {
   "cell_type": "code",
   "execution_count": 28,
   "id": "4f241fa8-47a9-4b18-9b32-1d58905be7a3",
   "metadata": {},
   "outputs": [
    {
     "name": "stdout",
     "output_type": "stream",
     "text": [
      "-11.296800000000001\n"
     ]
    }
   ],
   "source": [
    "print(energy_kilojoules)"
   ]
  },
  {
   "cell_type": "markdown",
   "id": "817aa44f-193b-4bff-8dba-cb76570c5968",
   "metadata": {},
   "source": [
    "## Taking Slices"
   ]
  },
  {
   "cell_type": "code",
   "execution_count": 29,
   "id": "1de2f524-e164-4ccb-b10b-f70db106e48a",
   "metadata": {},
   "outputs": [
    {
     "name": "stdout",
     "output_type": "stream",
     "text": [
      "[-13.2, -2.7]\n"
     ]
    }
   ],
   "source": [
    "#new_list = list_name[start:end]\n",
    "short_list = energy_kcal[0:2]\n",
    "print(short_list)"
   ]
  },
  {
   "cell_type": "code",
   "execution_count": 30,
   "id": "e0580fe5-33a8-4a88-97a9-42b6939512c7",
   "metadata": {},
   "outputs": [
    {
     "ename": "SyntaxError",
     "evalue": "invalid syntax (<ipython-input-30-a999657bf109>, line 2)",
     "output_type": "error",
     "traceback": [
      "\u001b[0;36m  File \u001b[0;32m\"<ipython-input-30-a999657bf109>\"\u001b[0;36m, line \u001b[0;32m2\u001b[0m\n\u001b[0;31m    slice2 = [:3]\u001b[0m\n\u001b[0m              ^\u001b[0m\n\u001b[0;31mSyntaxError\u001b[0m\u001b[0;31m:\u001b[0m invalid syntax\n"
     ]
    }
   ],
   "source": [
    "slice1 = energy_kcal[1:]\n",
    "slice2 = [:3]\n",
    "print(slice1)\n",
    "print(slice2)"
   ]
  },
  {
   "cell_type": "code",
   "execution_count": 31,
   "id": "cf7925ca-da58-4f4f-9ac9-1ad9966591ec",
   "metadata": {},
   "outputs": [
    {
     "name": "stdout",
     "output_type": "stream",
     "text": [
      "[-2.7, 5.4, 42.1]\n",
      "[-13.2, -2.7, 5.4]\n"
     ]
    }
   ],
   "source": [
    "slice1 = energy_kcal[1:]\n",
    "slice2 = energy_kcal[:3]\n",
    "print(slice1)\n",
    "print(slice2)"
   ]
  },
  {
   "cell_type": "code",
   "execution_count": 32,
   "id": "1cbc8488-5442-4d79-aa0f-7d355e4944ac",
   "metadata": {},
   "outputs": [
    {
     "name": "stdout",
     "output_type": "stream",
     "text": [
      "[-13.2, -2.7, 5.4, 42.1]\n"
     ]
    }
   ],
   "source": [
    "print(energy_kcal)"
   ]
  },
  {
   "cell_type": "code",
   "execution_count": 33,
   "id": "8e6eefd7-76eb-47fa-a5d8-12aed1d601b7",
   "metadata": {},
   "outputs": [
    {
     "name": "stdout",
     "output_type": "stream",
     "text": [
      "-55.2288\n",
      "-11.296800000000001\n",
      "22.593600000000002\n",
      "176.1464\n"
     ]
    }
   ],
   "source": [
    "#for variable in list: \n",
    "#    do things using variable\n",
    "\n",
    "for number in energy_kcal:\n",
    "    kJ = number*4.184\n",
    "    print(kJ)"
   ]
  },
  {
   "cell_type": "code",
   "execution_count": 36,
   "id": "f73d491f-e784-4ca2-a961-2ce5a65d32a6",
   "metadata": {},
   "outputs": [],
   "source": [
    "#list_name.append(new_thing)\n",
    "\n",
    "energy_kJ = []\n",
    "\n",
    "for number in energy_kcal:\n",
    "    kJ = number*4.184\n",
    "    energy_kJ.append(kJ)"
   ]
  },
  {
   "cell_type": "code",
   "execution_count": 37,
   "id": "af40f914-3a75-47b9-88f3-022fd5d3d26a",
   "metadata": {},
   "outputs": [
    {
     "name": "stdout",
     "output_type": "stream",
     "text": [
      "[-55.2288, -11.296800000000001, 22.593600000000002, 176.1464]\n"
     ]
    }
   ],
   "source": [
    "print(energy_kJ)"
   ]
  },
  {
   "cell_type": "markdown",
   "id": "82ce6d80-d394-4e1c-a55d-e664f4acfde3",
   "metadata": {},
   "source": [
    "## Making choices using logic in a for loop"
   ]
  },
  {
   "cell_type": "code",
   "execution_count": 39,
   "id": "c4427b21-a0e2-4b94-9997-cd89e5c68830",
   "metadata": {},
   "outputs": [
    {
     "name": "stdout",
     "output_type": "stream",
     "text": [
      "[-55.2288, -11.296800000000001]\n"
     ]
    }
   ],
   "source": [
    "negative_energy = []\n",
    "\n",
    "for number in energy_kJ:\n",
    "    if (number < 0):\n",
    "        negative_energy.append(number)\n",
    "        \n",
    "print(negative_energy)"
   ]
  },
  {
   "cell_type": "markdown",
   "id": "56c541f8-0d4c-45e3-9317-fb9ecfc520d7",
   "metadata": {},
   "source": [
    "Other conditionals I can use:\n",
    "- equal to ==\n",
    "- not equal to !=\n",
    "- greater than >\n",
    "- less than <\n",
    "- greater than or equal to >=\n",
    "- less than or equal to <=\n",
    "\n",
    "I can also use and, or, and not to check more than one condition"
   ]
  },
  {
   "cell_type": "code",
   "execution_count": 41,
   "id": "81f7ae33-07b8-439a-afe9-0d40ac79479f",
   "metadata": {},
   "outputs": [
    {
     "name": "stdout",
     "output_type": "stream",
     "text": [
      "[-55.2288, -11.296800000000001]\n"
     ]
    }
   ],
   "source": [
    "negative_energy = []\n",
    "\n",
    "for number in energy_kJ:\n",
    "    if (number < 0) or number == 0:\n",
    "        negative_energy.append(number)\n",
    "        \n",
    "print(negative_energy)"
   ]
  },
  {
   "cell_type": "code",
   "execution_count": null,
   "id": "bc38d744-6f6c-4bcf-b82c-275dcacc16b1",
   "metadata": {},
   "outputs": [],
   "source": []
  }
 ],
 "metadata": {
  "kernelspec": {
   "display_name": "Python 3",
   "language": "python",
   "name": "python3"
  },
  "language_info": {
   "codemirror_mode": {
    "name": "ipython",
    "version": 3
   },
   "file_extension": ".py",
   "mimetype": "text/x-python",
   "name": "python",
   "nbconvert_exporter": "python",
   "pygments_lexer": "ipython3",
   "version": "3.8.8"
  }
 },
 "nbformat": 4,
 "nbformat_minor": 5
}
